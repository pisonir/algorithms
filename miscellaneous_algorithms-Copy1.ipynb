{
 "cells": [
  {
   "cell_type": "markdown",
   "metadata": {},
   "source": [
    "## Implement an algorithm to determine if a string has all unique characters.  "
   ]
  },
  {
   "cell_type": "code",
   "execution_count": null,
   "metadata": {},
   "outputs": [],
   "source": [
    "def using_length(string):\n",
    "    for c in string:\n",
    "        temp = string.replace(c,\"\")\n",
    "        if len(temp) < len(string) -1:\n",
    "            return False\n",
    "    return True\n",
    "\n",
    "def using_dictionary(string):\n",
    "    vocab = {}\n",
    "    for c in string:\n",
    "        vocab[c] = 1\n",
    "    if sum(vocab.values()) < len(string):\n",
    "        return False\n",
    "    else:\n",
    "        return True\n",
    "    \n",
    "def built_in_function(string):\n",
    "    if len(set(string))<len(string):\n",
    "        return False\n",
    "    else: return True"
   ]
  }
 ],
 "metadata": {
  "kernelspec": {
   "display_name": "Python 3",
   "language": "python",
   "name": "python3"
  },
  "language_info": {
   "codemirror_mode": {
    "name": "ipython",
    "version": 3
   },
   "file_extension": ".py",
   "mimetype": "text/x-python",
   "name": "python",
   "nbconvert_exporter": "python",
   "pygments_lexer": "ipython3",
   "version": "3.6.4"
  }
 },
 "nbformat": 4,
 "nbformat_minor": 2
}
