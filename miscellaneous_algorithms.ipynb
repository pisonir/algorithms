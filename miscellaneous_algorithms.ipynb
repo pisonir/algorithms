{
 "cells": [
  {
   "cell_type": "markdown",
   "metadata": {},
   "source": [
    "## Implement an algorithm to determine if a string has all unique characters.  "
   ]
  },
  {
   "cell_type": "code",
   "execution_count": null,
   "metadata": {},
   "outputs": [],
   "source": [
    "def using_length(string):\n",
    "    for c in string:\n",
    "        temp = string.replace(c,\"\")\n",
    "        if len(temp) < len(string) -1:\n",
    "            return False\n",
    "    return True\n",
    "\n",
    "def using_dictionary(string):\n",
    "    vocab = {}\n",
    "    for c in string:\n",
    "        vocab[c] = 1\n",
    "    if sum(vocab.values()) < len(string):\n",
    "        return False\n",
    "    else:\n",
    "        return True\n",
    "    \n",
    "def built_in_function(string):\n",
    "    if len(set(string))<len(string):\n",
    "        return False\n",
    "    else: return True"
   ]
  },
  {
   "cell_type": "markdown",
   "metadata": {},
   "source": [
    "## Write a method to replace all spaces in a string with '%20': You may assume that the string has sufficient space at the end to hold the additional characters, and that you are given the \"true\" length of the string. "
   ]
  },
  {
   "cell_type": "code",
   "execution_count": null,
   "metadata": {},
   "outputs": [],
   "source": [
    "def urlify(string, length):\n",
    "    string = string[:length] #like this I get rid of the spaces at the end of the string. Otherwise one could also use the built-in\n",
    "                               # string function .strip()\n",
    "    string = string.replace(' ','%20')\n",
    "    print (string)\n",
    "    \n",
    "urlify('Mr John Smith   ',13)"
   ]
  },
  {
   "cell_type": "markdown",
   "metadata": {},
   "source": [
    "## There are three types of edits that can be performed on strings: insert a character, remove a character, or replace a character. Given two strings, write a function to check if they are one edit (or zero edits) away. "
   ]
  },
  {
   "cell_type": "code",
   "execution_count": null,
   "metadata": {},
   "outputs": [],
   "source": [
    "def one_way(str1,str2):\n",
    "    count = 0\n",
    "    for c1 in str1:\n",
    "        for c2 in str2:\n",
    "            if c1==c2:\n",
    "                count+=1\n",
    "                \n",
    "    if abs(len(str1)-len(str2)) == 1 and count == min(len(str1),len(str2)): #if there was an insert character or a remove\n",
    "        return True\n",
    "    elif len(str1)==len(str2) and count == len(str1)-1: #if there was a replace character\n",
    "        return True\n",
    "    else:\n",
    "        return False\n",
    "    \n",
    "print (one_way('pale','ple'))\n",
    "print (one_way('pales','pale'))\n",
    "print (one_way('pale','bale'))\n",
    "print (one_way('pale','bake'))"
   ]
  },
  {
   "cell_type": "markdown",
   "metadata": {},
   "source": [
    "## Write an algorithm such that if an element in an MxN matrix is 0, its entire row and  column are set to O.  "
   ]
  },
  {
   "cell_type": "code",
   "execution_count": null,
   "metadata": {},
   "outputs": [],
   "source": [
    "import numpy as np\n",
    "from copy import deepcopy\n",
    "\n",
    "\n",
    "def zerofy(matrix):\n",
    "    res = deepcopy(matrix) #to not modify matrix\n",
    "    for i in range(len(matrix)): #iterate on rows\n",
    "        for j in range(len(matrix[0])): #iterate on columns\n",
    "            if matrix[i][j]==0:\n",
    "                res[i]=np.zeros_like(res[i]) #zeros the row\n",
    "                res[:,j]=np.zeros_like(res[:,j]) #zeros the column\n",
    "                \n",
    "    return res\n",
    "\n",
    "\n",
    "\n",
    "\n",
    "matrix1 = np.array([[2,1,3],[4,0,5],[3,5,8],[9,8,9]])\n",
    "matrix2 = np.array([[0,1,3],[4,1,5],[3,5,8],[9,8,0]])\n",
    "print (matrix1)\n",
    "print (zerofy(matrix1))"
   ]
  },
  {
   "cell_type": "markdown",
   "metadata": {},
   "source": [
    "## Assume you have a method isSubst ring which checks if one word is a substring of another. Given two strings, s1 and s2, write code to check if s2 is a rotation of s1 using only one call to isSubstring (e.g., \"waterbottle\" is a rotation of\"erbottlewat\"). "
   ]
  },
  {
   "cell_type": "code",
   "execution_count": null,
   "metadata": {},
   "outputs": [],
   "source": [
    "def is_rotation(s1, s2):\n",
    "    \n",
    "    #first check, s1 and s2 don't have same length then s2 cannot be a rotation of s1\n",
    "    if len(s1) != len(s2):\n",
    "        return False\n",
    "    #then, to check if 'erbottlewat' is a substring of 'waterbottle'\n",
    "    # you can check if 'waterbottle' is a substring of 'erbottlewaterbottlewat'\n",
    "    else:\n",
    "        return (isSubstring(s1,s2*2))\n",
    "    \n",
    "    #otherwise using slicing\n",
    "    for i in range(len(s1)):\n",
    "        \n",
    "        if s2.startswith(s1[i:]) and s2.endswith(s1[:i]): \n",
    "            return True\n",
    "        \n",
    "    return False"
   ]
  },
  {
   "cell_type": "markdown",
   "metadata": {},
   "source": [
    "## Write code to remove duplicates from an unsorted linked list."
   ]
  },
  {
   "cell_type": "code",
   "execution_count": null,
   "metadata": {},
   "outputs": [],
   "source": [
    "from copy import deepcopy\n",
    "def remove_dups1(l):\n",
    "    \n",
    "    l = set(l) #using set\n",
    "    return l\n",
    "\n",
    "def remove_dups2(l): #using a dictionary\n",
    "    temp = deepcopy(l)\n",
    "    vocab = {}\n",
    "    for c in l:\n",
    "        vocab[c] = 0\n",
    "    for c in temp:\n",
    "        \n",
    "        vocab[c]+=1\n",
    "        if vocab[c]>1:\n",
    "            l.remove(c) #.remove doesn't return anything, it change the list in place...watch out because it will affect the for loop\n",
    "    \n",
    "    return l\n",
    "\n",
    "l = [1,2,3,2,1]\n",
    "print (remove_dups2(l))"
   ]
  },
  {
   "cell_type": "markdown",
   "metadata": {},
   "source": [
    "## Implement an algorithm to find the kth to last element of a singly linked list."
   ]
  },
  {
   "cell_type": "code",
   "execution_count": null,
   "metadata": {},
   "outputs": [],
   "source": [
    "def k_to_last(ls,k):\n",
    "    \n",
    "    return ls[-k]\n",
    "\n",
    "print(k_to_last([1,2,3,4,5,6,'ciao'],2))"
   ]
  },
  {
   "cell_type": "markdown",
   "metadata": {},
   "source": [
    "## You have two numbers represented by a linked list, where each node contains a single digit. The digits are stored in reverse order, such that the 1 's digit is at the head of the list. Write a function that adds the two numbers and returns the sum as a linked list.\n"
   ]
  },
  {
   "cell_type": "code",
   "execution_count": null,
   "metadata": {},
   "outputs": [],
   "source": [
    "def sum_lists(a,b):\n",
    "    c = 0\n",
    "    sum_list = []\n",
    "    en = 0\n",
    "    while en < min(len(a),len(b))-1:\n",
    "        for en,(i,j) in enumerate(zip(a,b)):       \n",
    "            sum_list.append(((i+j+c)%10))\n",
    "            if i+j+c >= 10:\n",
    "                c = 1\n",
    "            else:  \n",
    "                c = 0\n",
    "        \n",
    "        if len(a)>len(b):\n",
    "            if c == 1:\n",
    "                a[en+1] += 1\n",
    "                sum_list = sum_list + a[en+1:]\n",
    "            else:\n",
    "                sum_list = sum_list + a[en+1:]\n",
    "        else:\n",
    "            if c == 1:\n",
    "                b[en+1] += 1\n",
    "                sum_list = sum_list + b[en+1:]\n",
    "            else:\n",
    "                sum_list = sum_list + b[en+1:]\n",
    "            \n",
    "    return sum_list\n",
    "\n",
    "def sum_lists_forward(a,b):\n",
    "    c = 0\n",
    "    sum_list = []\n",
    "    \n",
    "    for i,j in zip(a[::-1],b[::-1]):\n",
    "        if i+j >= 10:\n",
    "            sum_list.append(((i+j)%10)+c)\n",
    "            c = 1\n",
    "        else:\n",
    "            sum_list.append(i+j+c)\n",
    "            c = 0\n",
    "    return sum_list[::-1]\n",
    "\n",
    "\n",
    "print (sum_lists([7,4,5],[5,5]))\n",
    "print (sum_lists_forward([5,1,7],[2,5,5]))"
   ]
  },
  {
   "cell_type": "markdown",
   "metadata": {},
   "source": [
    "## A child is running up a staircase with n steps and can hop either 1 step, 2 steps, or 3 steps at a time. Implement a method to count how many possible ways the child can run up the stairs."
   ]
  },
  {
   "cell_type": "code",
   "execution_count": null,
   "metadata": {},
   "outputs": [],
   "source": [
    "def counts(n):\n",
    "    \n",
    "    #base case\n",
    "    if n == 1 or n == 0: return 1\n",
    "    if n == 2: return 2\n",
    "    \n",
    "    #recursive case\n",
    "    return counts(n-1) + counts(n-2) + counts(n-3)\n",
    "\n",
    "print (counts(4))"
   ]
  },
  {
   "cell_type": "markdown",
   "metadata": {},
   "source": [
    "## A magic index in an array A [e ... n -1] is defined to be an index such that A[ i] = i. Given a sorted array of distinct integers, write a method to find a magic index, if one exists, in array A."
   ]
  },
  {
   "cell_type": "code",
   "execution_count": null,
   "metadata": {},
   "outputs": [],
   "source": [
    "def magic_index_in(A):\n",
    "    \n",
    "    i = 0\n",
    "    f = len(A)-1\n",
    "    found = False\n",
    "    \n",
    "    while i<=f and found == False:\n",
    "        \n",
    "        m = int((f+i)/2)\n",
    "        \n",
    "        if A[m] == m:\n",
    "            found = True\n",
    "        else:\n",
    "            if A[m] > m:\n",
    "                f = m-1\n",
    "            else:\n",
    "                i = m+1\n",
    "    return found"
   ]
  },
  {
   "cell_type": "markdown",
   "metadata": {},
   "source": [
    "## Write a recursive function to multiply two positive integers without using the * operator. You can use addition, subtraction, and bit shifting, but you should minimize the number of those operations."
   ]
  },
  {
   "cell_type": "code",
   "execution_count": null,
   "metadata": {},
   "outputs": [],
   "source": [
    "def recursive_multiplication(a, b):\n",
    "    if a == 0 or b == 0: return 0\n",
    "    \n",
    "    if a < b:\n",
    "        return b + recursive_multiplication(a-1, b)\n",
    "    else:\n",
    "        return a + recursive_multiplication(a, b-1)\n",
    "    \n",
    "print (recursive_multiplication(25,5))"
   ]
  },
  {
   "cell_type": "markdown",
   "metadata": {},
   "source": [
    "## Implement an algorithm to print all valid (e.g., properly opened and closed) combinations of n pairs of parentheses."
   ]
  },
  {
   "cell_type": "code",
   "execution_count": null,
   "metadata": {},
   "outputs": [],
   "source": [
    "def parens(n):\n",
    "    \n",
    "    if n == 0:\n",
    "        return ''\n",
    "    elif n == 1:\n",
    "        return '()'\n",
    "   \n",
    "    \n",
    "    return  [parens(n-1)*n , '('+str(parens(n-1))+')']\n",
    "\n",
    "print(parens(3))"
   ]
  },
  {
   "cell_type": "markdown",
   "metadata": {},
   "source": [
    "## You are given 2 over-lapping rectangles on a plane. For each rectangle, you are given its bottom-left and top-right points. How would you find the area of their overlap"
   ]
  },
  {
   "cell_type": "code",
   "execution_count": null,
   "metadata": {},
   "outputs": [],
   "source": [
    "def min_(a,b):\n",
    "    if a <= b: return a\n",
    "    else: return b\n",
    "def max_(a,b):\n",
    "    if a >= b: return a\n",
    "    else: return b\n",
    "def distance(a,b):\n",
    "    if a>b:\n",
    "        return a-b\n",
    "    else:\n",
    "        return False\n",
    "def overlap(rect1,rect2):\n",
    "    xB=rect1[0][0]\n",
    "    yB=rect1[0][1]\n",
    "    xT=rect1[1][0]\n",
    "    yT=rect1[1][1]\n",
    "    xB_=rect2[0][0]\n",
    "    yB_=rect2[0][1]\n",
    "    xT_=rect2[1][0]\n",
    "    yT_=rect2[1][1]\n",
    "    \n",
    "    area = distance(min_(xT,xT_),max_(xB,xB_))*distance(min_(yT,yT_),max_(yB,yB_))\n",
    "    print(distance(min_(yT,yT_),max_(yB,yB_)))\n",
    "    return area\n",
    "\n",
    " \n",
    "Rect1 = [(2,1),(5,5)]\n",
    "Rect2 = [(3,2),(5,7)]\n",
    " \n",
    "print (overlap(Rect1,Rect2))"
   ]
  },
  {
   "cell_type": "markdown",
   "metadata": {},
   "source": [
    "## A linked list is given such that each node contains an additional random pointer which could point to any node in the list or null. Return a deep copy of the list."
   ]
  },
  {
   "cell_type": "code",
   "execution_count": null,
   "metadata": {},
   "outputs": [],
   "source": [
    "# Definition for singly-linked list with a random pointer.\n",
    "# class RandomListNode(object):\n",
    "#     def __init__(self, x):\n",
    "#         self.label = x\n",
    "#         self.next = None\n",
    "#         self.random = None\n",
    "\n",
    "class Solution(object):\n",
    "    def copyRandomList(self, head):\n",
    "        \"\"\"\n",
    "        :type head: RandomListNode\n",
    "        :rtype: RandomListNode\n",
    "        \"\"\"\n",
    "        list_dic = {}\n",
    "        iterN = head\n",
    "        while iterN:\n",
    "            list_dic[iterN]=RandomListNode(iterN.label)\n",
    "            iterN = iterN.next\n",
    "            \n",
    "        iterN = head\n",
    "        while iterN:\n",
    "            list_dic[iterN].next=list_dic[iterN.next] if iterN.next else None\n",
    "            list_dic[iterN].random=list_dic[iterN.random] if iterN.random else None\n",
    "            iterN = iterN.next\n",
    "            \n",
    "        return list_dic[head] if head else None\n"
   ]
  },
  {
   "cell_type": "markdown",
   "metadata": {},
   "source": [
    "## Given an array of integers, return indices of the two numbers such that they add up to a specific target. You may assume that each input would have exactly one solution, and you may not use the same element twice."
   ]
  },
  {
   "cell_type": "code",
   "execution_count": null,
   "metadata": {},
   "outputs": [],
   "source": [
    "def twoSum(nums, target):\n",
    "        \"\"\"\n",
    "        :type nums: List[int]\n",
    "        :type target: int\n",
    "        :rtype: List[int]\n",
    "        \"\"\"\n",
    "        dic = {}\n",
    "        for i in nums:\n",
    "            if i in dic and i == target-i: # this address the particular case in which you have duplicates\n",
    "                return [j for j,i in enumerate(nums) if i == target-i] #if you have duplicates and they are your answer then return the result immediately\n",
    "            dic[i] = target-i\n",
    "        for k,v in dic.items():\n",
    "            if v in dic:\n",
    "                return [nums.index(k),nums.index(v)]\n",
    "            \n",
    "print (twoSum([3,2,3],6))"
   ]
  },
  {
   "cell_type": "markdown",
   "metadata": {},
   "source": [
    "## Given a Binary Search Tree and a target number, return true if there exist two elements in the BST such that their sum is equal to the given target."
   ]
  },
  {
   "cell_type": "code",
   "execution_count": null,
   "metadata": {},
   "outputs": [],
   "source": [
    "class Solution:\n",
    "    def findTarget(self, root, k):\n",
    "        \"\"\"\n",
    "        :type root: TreeNode\n",
    "        :type k: int\n",
    "        :rtype: bool\n",
    "        \"\"\"\n",
    "        if not root: # if the tree is empty\n",
    "            return False\n",
    "        \n",
    "        return self._findTarget(root,set(),k)\n",
    "        \n",
    "    def _findTarget(self,node,nodes,k):\n",
    "        if not node: #if we reach the bottom of the tree\n",
    "            return False\n",
    "\n",
    "        complement = k-node.val #you look for the complementary of your current node value\n",
    "        if complement in nodes:\n",
    "            return True\n",
    "\n",
    "        nodes.add(node.val) #to add elements to a set you do set.add()\n",
    "\n",
    "        return self._findTarget(node.left,nodes,k) or self._findTarget(node.right,nodes,k) # you check left and right"
   ]
  },
  {
   "cell_type": "markdown",
   "metadata": {},
   "source": [
    "## Write an efficient function to find the first nonrepeated character in a string. For instance, the first nonrepeated character in “total” is 'o' and the first nonrepeated character in “teeter” is 'r'. Discuss the efficiency of your algorithm."
   ]
  },
  {
   "cell_type": "code",
   "execution_count": null,
   "metadata": {},
   "outputs": [],
   "source": [
    "def nonrepeated(s):\n",
    "    count = {}\n",
    "    for c in s:\n",
    "        if c not in count:\n",
    "            count[c] = 0\n",
    "        else:\n",
    "            count[c] += 1\n",
    "    for c in s:\n",
    "        if count[c] == 0:\n",
    "            return c\n",
    "    return False\n",
    "        \n",
    "    \n",
    "\n",
    "print (nonrepeated('totoaall'))"
   ]
  },
  {
   "cell_type": "markdown",
   "metadata": {},
   "source": [
    "## Write an efficient function that deletes characters from an ASCII string. Use the prototype string removeChars( string str, string remove ); where any character existing in remove must be deleted from str. For example,  given a str of \"Battle of the Vowels: Hawaii vs. Grozny\" and a remove of  \"aeiou\", the function should transform str to “Bttl f th Vwls: Hw vs. Grzny”. Justify any design decisions you make, and discuss the efficiency of your solution."
   ]
  },
  {
   "cell_type": "code",
   "execution_count": null,
   "metadata": {},
   "outputs": [],
   "source": [
    "def removeChars(s,r):\n",
    "    tic()\n",
    "    vocab = {}\n",
    "    #string are immutable, you have to convert it to a list to change the elements inside\n",
    "    l = list(s)\n",
    "    for c in r:\n",
    "        vocab[c]=True\n",
    "    for i,c in enumerate(l):\n",
    "        if vocab.get(c):\n",
    "            l[i]='' \n",
    "    print (toc())\n",
    "    return ''.join(l)\n",
    "\n",
    "s = 'Battle of the Vowels: Hawaii vs. Grozny'*10000\n",
    "r = 'aeiou'\n",
    "\n",
    "print (removeChars(s,r))"
   ]
  },
  {
   "cell_type": "code",
   "execution_count": null,
   "metadata": {},
   "outputs": [],
   "source": [
    "def removeChars(s,r):\n",
    "    tic()\n",
    "    for c in r:\n",
    "        s=s.replace(c,'')\n",
    "    print (toc())\n",
    "    return s\n",
    "\n",
    "s = 'Battle of the Vowels: Hawaii vs. Grozny'*10000\n",
    "r = 'aeiou'\n",
    "\n",
    "print (removeChars(s,r))"
   ]
  },
  {
   "cell_type": "markdown",
   "metadata": {},
   "source": [
    "## Write a function that reverses the order of the words in a string. Forexample, your function should transform the string \"Do or do not, there is no try.\" to \"try. no is there not, do or Do\". Assume that all words are space delimited and treat punctuation the same as letters."
   ]
  },
  {
   "cell_type": "code",
   "execution_count": null,
   "metadata": {},
   "outputs": [],
   "source": [
    "def rev1(s):\n",
    "    l = s.split()\n",
    "    l = l[::-1]\n",
    "    s_ = ' '.join(l)\n",
    "    return s_\n",
    "\n",
    "print (rev1('Do or do not, there is no try.'))"
   ]
  },
  {
   "cell_type": "markdown",
   "metadata": {},
   "source": [
    "## Implement a function that prints all possible combinations of the characters in a string. These combinations range in length from one to the length of the string. Two combinations that differ only in ordering of their characters are the same combination. In other words, “12” and “31” are different combinations from the input string “123”, but “21” is the same as “12”."
   ]
  },
  {
   "cell_type": "code",
   "execution_count": null,
   "metadata": {},
   "outputs": [],
   "source": [
    "def comb(s):\n",
    "    if len(s)==1:\n",
    "        print (s)\n",
    "        return s\n",
    "    else:\n",
    "        #for i in range(len(s)):\n",
    "        print (s[0])\n",
    "        print (comb(s[0:]))\n",
    "        return (s[0]+comb(s[1:]))\n",
    "        \n",
    "print(comb('123'))"
   ]
  }
 ],
 "metadata": {
  "kernelspec": {
   "display_name": "Python 3",
   "language": "python",
   "name": "python3"
  },
  "language_info": {
   "codemirror_mode": {
    "name": "ipython",
    "version": 3
   },
   "file_extension": ".py",
   "mimetype": "text/x-python",
   "name": "python",
   "nbconvert_exporter": "python",
   "pygments_lexer": "ipython3",
   "version": "3.6.4"
  }
 },
 "nbformat": 4,
 "nbformat_minor": 2
}
